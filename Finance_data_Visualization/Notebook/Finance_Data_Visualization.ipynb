{
 "cells": [
  {
   "cell_type": "code",
   "execution_count": 1,
   "metadata": {},
   "outputs": [],
   "source": [
    "import pandas as pd\n",
    "import numpy as np\n",
    "import matplotlib as mpl\n",
    "import matplotlib.pyplot as plt\n",
    "import seaborn as sns\n",
    "import plotly\n",
    "import plotly.express as px\n",
    "\n",
    "%matplotlib inline"
   ]
  },
  {
   "cell_type": "code",
   "execution_count": 2,
   "metadata": {},
   "outputs": [],
   "source": [
    "plt.rc('font', family='Malgun Gothic')\n",
    "plt.rc('axes', unicode_minus=False)"
   ]
  },
  {
   "cell_type": "code",
   "execution_count": 3,
   "metadata": {},
   "outputs": [],
   "source": [
    "dataset_1 = pd.read_excel('C:/Users/user/LikeLion_AI/DACON/재정데이터_시각화/재정데이터 시각화모델 경진대회 데이터_열린재정(EXCEL)/1. 예산/1-1-2. 세출 지출 세목 예산편성현황(총액).xlsx')"
   ]
  },
  {
   "cell_type": "code",
   "execution_count": 4,
   "metadata": {},
   "outputs": [
    {
     "data": {
      "text/html": [
       "<div>\n",
       "<style scoped>\n",
       "    .dataframe tbody tr th:only-of-type {\n",
       "        vertical-align: middle;\n",
       "    }\n",
       "\n",
       "    .dataframe tbody tr th {\n",
       "        vertical-align: top;\n",
       "    }\n",
       "\n",
       "    .dataframe thead th {\n",
       "        text-align: right;\n",
       "    }\n",
       "</style>\n",
       "<table border=\"1\" class=\"dataframe\">\n",
       "  <thead>\n",
       "    <tr style=\"text-align: right;\">\n",
       "      <th></th>\n",
       "      <th>회계년도</th>\n",
       "      <th>소관명</th>\n",
       "      <th>회계명</th>\n",
       "      <th>계정명</th>\n",
       "      <th>분야명</th>\n",
       "      <th>부문명</th>\n",
       "      <th>프로그램명</th>\n",
       "      <th>단위사업명</th>\n",
       "      <th>세부사업명</th>\n",
       "      <th>경비구분</th>\n",
       "      <th>목명</th>\n",
       "      <th>세목명</th>\n",
       "      <th>정부안금액(천원)</th>\n",
       "      <th>국회확정금액(천원)</th>\n",
       "    </tr>\n",
       "  </thead>\n",
       "  <tbody>\n",
       "    <tr>\n",
       "      <th>0</th>\n",
       "      <td>2021</td>\n",
       "      <td>5·18민주화운동 진상규명조사위원회</td>\n",
       "      <td>일반회계</td>\n",
       "      <td>NaN</td>\n",
       "      <td>일반·지방행정</td>\n",
       "      <td>일반행정</td>\n",
       "      <td>518 진상규명조사위원회 운영</td>\n",
       "      <td>518 진상규명 지원</td>\n",
       "      <td>518 진상규명지원</td>\n",
       "      <td>주요사업비(기금사업비)</td>\n",
       "      <td>보전금</td>\n",
       "      <td>손실보상금</td>\n",
       "      <td>120000</td>\n",
       "      <td>120000</td>\n",
       "    </tr>\n",
       "    <tr>\n",
       "      <th>1</th>\n",
       "      <td>2021</td>\n",
       "      <td>5·18민주화운동 진상규명조사위원회</td>\n",
       "      <td>일반회계</td>\n",
       "      <td>NaN</td>\n",
       "      <td>일반·지방행정</td>\n",
       "      <td>일반행정</td>\n",
       "      <td>518 진상규명조사위원회 운영</td>\n",
       "      <td>518 진상규명 지원</td>\n",
       "      <td>518 진상규명지원</td>\n",
       "      <td>주요사업비(기금사업비)</td>\n",
       "      <td>업무추진비</td>\n",
       "      <td>관서업무추진비</td>\n",
       "      <td>39600</td>\n",
       "      <td>39600</td>\n",
       "    </tr>\n",
       "    <tr>\n",
       "      <th>2</th>\n",
       "      <td>2021</td>\n",
       "      <td>5·18민주화운동 진상규명조사위원회</td>\n",
       "      <td>일반회계</td>\n",
       "      <td>NaN</td>\n",
       "      <td>일반·지방행정</td>\n",
       "      <td>일반행정</td>\n",
       "      <td>518 진상규명조사위원회 운영</td>\n",
       "      <td>518 진상규명 지원</td>\n",
       "      <td>518 진상규명지원</td>\n",
       "      <td>주요사업비(기금사업비)</td>\n",
       "      <td>업무추진비</td>\n",
       "      <td>사업추진비</td>\n",
       "      <td>2000</td>\n",
       "      <td>2000</td>\n",
       "    </tr>\n",
       "    <tr>\n",
       "      <th>3</th>\n",
       "      <td>2021</td>\n",
       "      <td>5·18민주화운동 진상규명조사위원회</td>\n",
       "      <td>일반회계</td>\n",
       "      <td>NaN</td>\n",
       "      <td>일반·지방행정</td>\n",
       "      <td>일반행정</td>\n",
       "      <td>518 진상규명조사위원회 운영</td>\n",
       "      <td>518 진상규명 지원</td>\n",
       "      <td>518 진상규명지원</td>\n",
       "      <td>주요사업비(기금사업비)</td>\n",
       "      <td>여비</td>\n",
       "      <td>국내여비</td>\n",
       "      <td>779647</td>\n",
       "      <td>779647</td>\n",
       "    </tr>\n",
       "    <tr>\n",
       "      <th>4</th>\n",
       "      <td>2021</td>\n",
       "      <td>5·18민주화운동 진상규명조사위원회</td>\n",
       "      <td>일반회계</td>\n",
       "      <td>NaN</td>\n",
       "      <td>일반·지방행정</td>\n",
       "      <td>일반행정</td>\n",
       "      <td>518 진상규명조사위원회 운영</td>\n",
       "      <td>518 진상규명 지원</td>\n",
       "      <td>518 진상규명지원</td>\n",
       "      <td>주요사업비(기금사업비)</td>\n",
       "      <td>여비</td>\n",
       "      <td>국외업무여비</td>\n",
       "      <td>17000</td>\n",
       "      <td>17000</td>\n",
       "    </tr>\n",
       "  </tbody>\n",
       "</table>\n",
       "</div>"
      ],
      "text/plain": [
       "   회계년도                  소관명   회계명  계정명      분야명   부문명             프로그램명  \\\n",
       "0  2021  5·18민주화운동 진상규명조사위원회  일반회계  NaN  일반·지방행정  일반행정  518 진상규명조사위원회 운영   \n",
       "1  2021  5·18민주화운동 진상규명조사위원회  일반회계  NaN  일반·지방행정  일반행정  518 진상규명조사위원회 운영   \n",
       "2  2021  5·18민주화운동 진상규명조사위원회  일반회계  NaN  일반·지방행정  일반행정  518 진상규명조사위원회 운영   \n",
       "3  2021  5·18민주화운동 진상규명조사위원회  일반회계  NaN  일반·지방행정  일반행정  518 진상규명조사위원회 운영   \n",
       "4  2021  5·18민주화운동 진상규명조사위원회  일반회계  NaN  일반·지방행정  일반행정  518 진상규명조사위원회 운영   \n",
       "\n",
       "         단위사업명       세부사업명          경비구분     목명      세목명  정부안금액(천원)  \\\n",
       "0  518 진상규명 지원  518 진상규명지원  주요사업비(기금사업비)    보전금    손실보상금     120000   \n",
       "1  518 진상규명 지원  518 진상규명지원  주요사업비(기금사업비)  업무추진비  관서업무추진비      39600   \n",
       "2  518 진상규명 지원  518 진상규명지원  주요사업비(기금사업비)  업무추진비    사업추진비       2000   \n",
       "3  518 진상규명 지원  518 진상규명지원  주요사업비(기금사업비)     여비     국내여비     779647   \n",
       "4  518 진상규명 지원  518 진상규명지원  주요사업비(기금사업비)     여비   국외업무여비      17000   \n",
       "\n",
       "   국회확정금액(천원)  \n",
       "0      120000  \n",
       "1       39600  \n",
       "2        2000  \n",
       "3      779647  \n",
       "4       17000  "
      ]
     },
     "execution_count": 4,
     "metadata": {},
     "output_type": "execute_result"
    }
   ],
   "source": [
    "dataset_1.head()"
   ]
  },
  {
   "cell_type": "code",
   "execution_count": 5,
   "metadata": {},
   "outputs": [
    {
     "data": {
      "text/plain": [
       "(545957, 14)"
      ]
     },
     "execution_count": 5,
     "metadata": {},
     "output_type": "execute_result"
    }
   ],
   "source": [
    "dataset_1.shape"
   ]
  },
  {
   "cell_type": "code",
   "execution_count": 6,
   "metadata": {},
   "outputs": [
    {
     "name": "stdout",
     "output_type": "stream",
     "text": [
      "<class 'pandas.core.frame.DataFrame'>\n",
      "RangeIndex: 545957 entries, 0 to 545956\n",
      "Data columns (total 14 columns):\n",
      " #   Column      Non-Null Count   Dtype \n",
      "---  ------      --------------   ----- \n",
      " 0   회계년도        545957 non-null  int64 \n",
      " 1   소관명         545957 non-null  object\n",
      " 2   회계명         545957 non-null  object\n",
      " 3   계정명         76118 non-null   object\n",
      " 4   분야명         545957 non-null  object\n",
      " 5   부문명         545957 non-null  object\n",
      " 6   프로그램명       545957 non-null  object\n",
      " 7   단위사업명       545957 non-null  object\n",
      " 8   세부사업명       545957 non-null  object\n",
      " 9   경비구분        545957 non-null  object\n",
      " 10  목명          545957 non-null  object\n",
      " 11  세목명         545957 non-null  object\n",
      " 12  정부안금액(천원)   545957 non-null  int64 \n",
      " 13  국회확정금액(천원)  545957 non-null  int64 \n",
      "dtypes: int64(3), object(11)\n",
      "memory usage: 58.3+ MB\n"
     ]
    }
   ],
   "source": [
    "dataset_1.info()"
   ]
  },
  {
   "cell_type": "code",
   "execution_count": 8,
   "metadata": {},
   "outputs": [
    {
     "data": {
      "text/plain": [
       "회계년도              15\n",
       "소관명               99\n",
       "회계명              132\n",
       "계정명               57\n",
       "분야명               23\n",
       "부문명               89\n",
       "프로그램명           1355\n",
       "단위사업명           8143\n",
       "세부사업명          26683\n",
       "경비구분               3\n",
       "목명                32\n",
       "세목명              150\n",
       "정부안금액(천원)     166648\n",
       "국회확정금액(천원)    167071\n",
       "dtype: int64"
      ]
     },
     "execution_count": 8,
     "metadata": {},
     "output_type": "execute_result"
    }
   ],
   "source": [
    "dataset_1.nunique()"
   ]
  },
  {
   "cell_type": "code",
   "execution_count": 7,
   "metadata": {},
   "outputs": [
    {
     "data": {
      "text/plain": [
       "array(['5·18민주화운동 진상규명조사위원회', '가습기살균제사건과 4·16세월호참사 특별조사위원회', '감사원',\n",
       "       '개인정보보호위원회', '경찰청', '고용노동부', '공정거래위원회', '과학기술정보통신부', '관세청', '교육부',\n",
       "       '국가보훈처', '국가인권위원회', '국가정보원', '국무조정실 및 국무총리비서실', '국민권익위원회', '국방부',\n",
       "       '국세청', '국토교통부', '국회', '금융위원회', '기상청', '기획재정부', '농림축산식품부', '농촌진흥청',\n",
       "       '대법원', '대통령경호처', '대통령비서실 및 국가안보실', '문화재청', '문화체육관광부', '민주평화통일자문회의',\n",
       "       '방송통신위원회', '방위사업청', '법무부', '법제처', '병무청', '보건복지부', '산림청', '산업통상자원부',\n",
       "       '새만금개발청', '소방청', '식품의약품안전처', '여성가족부', '외교부', '원자력안전위원회', '인사혁신처',\n",
       "       '조달청', '중소벤처기업부', '중앙선거관리위원회', '질병관리청', '통계청', '통일부', '특허청',\n",
       "       '해양경찰청', '해양수산부', '행정안전부', '행정중심복합도시건설청', '헌법재판소', '환경부', '국민안전처',\n",
       "       '대통령경호실', '미래창조과학부', '중소기업청', '행정자치부', '4·16세월호참사 특별조사위원회',\n",
       "       '소방방재청', '안전행정부', '교육과학기술부', '국가과학기술위원회', '국토해양부', '농림수산식품부',\n",
       "       '대통령실', '식품의약품안전청', '외교통상부', '지식경제부', '특임장관실', '국무총리실', '노동부',\n",
       "       '보건복지가족부', '여성부', '진실·화해를위한과거사정리위원회', '친일반민족행위진상규명위원회', '건설교통부',\n",
       "       '과학기술부', '교육인적자원부', '국가안전보장회의', '국가청렴위원회', '국가청소년위원회', '국민경제자문회의',\n",
       "       '국민고충처리위원회', '국정홍보처', '기획예산처', '농림부', '대통령비서실', '문화관광부', '방송위원회',\n",
       "       '산업자원부', '재정경제부', '정보통신부', '중앙인사위원회'], dtype=object)"
      ]
     },
     "execution_count": 7,
     "metadata": {},
     "output_type": "execute_result"
    }
   ],
   "source": [
    "dataset_1['소관명'].unique()"
   ]
  },
  {
   "cell_type": "code",
   "execution_count": null,
   "metadata": {},
   "outputs": [],
   "source": []
  },
  {
   "cell_type": "code",
   "execution_count": null,
   "metadata": {},
   "outputs": [],
   "source": []
  },
  {
   "cell_type": "code",
   "execution_count": null,
   "metadata": {},
   "outputs": [],
   "source": []
  },
  {
   "cell_type": "code",
   "execution_count": null,
   "metadata": {},
   "outputs": [],
   "source": []
  },
  {
   "cell_type": "code",
   "execution_count": null,
   "metadata": {},
   "outputs": [],
   "source": []
  },
  {
   "cell_type": "code",
   "execution_count": null,
   "metadata": {},
   "outputs": [],
   "source": []
  },
  {
   "cell_type": "code",
   "execution_count": null,
   "metadata": {},
   "outputs": [],
   "source": []
  }
 ],
 "metadata": {
  "kernelspec": {
   "display_name": "Python 3",
   "language": "python",
   "name": "python3"
  },
  "language_info": {
   "codemirror_mode": {
    "name": "ipython",
    "version": 3
   },
   "file_extension": ".py",
   "mimetype": "text/x-python",
   "name": "python",
   "nbconvert_exporter": "python",
   "pygments_lexer": "ipython3",
   "version": "3.8.5"
  }
 },
 "nbformat": 4,
 "nbformat_minor": 4
}
